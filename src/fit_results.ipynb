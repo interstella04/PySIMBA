{
 "cells": [
  {
   "cell_type": "code",
   "execution_count": 7,
   "metadata": {},
   "outputs": [
    {
     "name": "stdout",
     "output_type": "stream",
     "text": [
      "The autoreload extension is already loaded. To reload it, use:\n",
      "  %reload_ext autoreload\n"
     ]
    }
   ],
   "source": [
    "%load_ext autoreload\n",
    "\n",
    "%autoreload 2"
   ]
  },
  {
   "cell_type": "code",
   "execution_count": 12,
   "metadata": {},
   "outputs": [],
   "source": [
    "from Meas import Theory, settings\n",
    "import numpy as np\n",
    "from fitter import Fitter\n",
    "from Tools import Tools"
   ]
  },
  {
   "cell_type": "code",
   "execution_count": 13,
   "metadata": {},
   "outputs": [
    {
     "name": "stdout",
     "output_type": "stream",
     "text": [
      "Fit for: ['belle', 'babar_hadtag', 'babar_incl'] using 5 parameters\n",
      "b\n",
      "<ValueView norm=0.004753681921532935 a1=0.010016194336986785 a2=0.04269100709029393 a3=-0.01991592248506804 a4=-0.24450302834792936> 32.861814731536874 4.766310096396202\n"
     ]
    }
   ],
   "source": [
    "start_pars = [1, 0.00506919, 0.0, 0.0798100, 0.0870341, 0.0250290, 0.0]\n",
    "fit = Fitter()\n",
    "fit.DoSingleFit(NumbPar= 5, with_minos= True)\n",
    "\n",
    "print(fit.m.values, fit.chisq, fit.mb)"
   ]
  },
  {
   "cell_type": "code",
   "execution_count": 10,
   "metadata": {},
   "outputs": [],
   "source": [
    "#<ValueView norm=0.0047533814778948245 a1=0.009790890286670519 a2=0.04244423412761333 a3=-0.02028901876727809 a4=-0.2445716980918044> 32.86183934196164 4.766419059728669"
   ]
  },
  {
   "cell_type": "code",
   "execution_count": null,
   "metadata": {},
   "outputs": [],
   "source": []
  },
  {
   "cell_type": "code",
   "execution_count": null,
   "metadata": {},
   "outputs": [],
   "source": []
  }
 ],
 "metadata": {
  "kernelspec": {
   "display_name": "root-env",
   "language": "python",
   "name": "python3"
  },
  "language_info": {
   "codemirror_mode": {
    "name": "ipython",
    "version": 3
   },
   "file_extension": ".py",
   "mimetype": "text/x-python",
   "name": "python",
   "nbconvert_exporter": "python",
   "pygments_lexer": "ipython3",
   "version": "3.13.2"
  }
 },
 "nbformat": 4,
 "nbformat_minor": 2
}
