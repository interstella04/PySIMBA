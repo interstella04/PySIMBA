{
 "cells": [
  {
   "cell_type": "code",
   "execution_count": 1,
   "metadata": {},
   "outputs": [],
   "source": [
    "%load_ext autoreload\n",
    "\n",
    "%autoreload 2"
   ]
  },
  {
   "cell_type": "code",
   "execution_count": 2,
   "metadata": {},
   "outputs": [],
   "source": [
    "from Meas import Theory, settings\n",
    "import numpy as np\n",
    "from fitter import Fitter\n",
    "from Tools import Tools"
   ]
  },
  {
   "cell_type": "code",
   "execution_count": 6,
   "metadata": {},
   "outputs": [
    {
     "name": "stdout",
     "output_type": "stream",
     "text": [
      "Fit for: ['belle', 'babar_hadtag', 'babar_incl'] using 3 parameters\n",
      "<ValueView norm=0.005044272205762458 a1=0.05209778317280869 a2=0.09527900719696113> 34.342365379392525 4.7348939884125105\n"
     ]
    }
   ],
   "source": [
    "start_pars = [1, 0.00506919, 0.0, 0.0798100, 0.0870341, 0.0250290, 0.0]\n",
    "fit = Fitter()\n",
    "fit.DoSingleFit(NumbPar= 3, with_minos= True)\n",
    "\n",
    "print(fit.m.values, fit.chisq, fit.mb)"
   ]
  },
  {
   "cell_type": "code",
   "execution_count": null,
   "metadata": {},
   "outputs": [],
   "source": []
  },
  {
   "cell_type": "code",
   "execution_count": null,
   "metadata": {},
   "outputs": [],
   "source": []
  },
  {
   "cell_type": "code",
   "execution_count": null,
   "metadata": {},
   "outputs": [],
   "source": []
  }
 ],
 "metadata": {
  "kernelspec": {
   "display_name": "root-env",
   "language": "python",
   "name": "python3"
  },
  "language_info": {
   "codemirror_mode": {
    "name": "ipython",
    "version": 3
   },
   "file_extension": ".py",
   "mimetype": "text/x-python",
   "name": "python",
   "nbconvert_exporter": "python",
   "pygments_lexer": "ipython3",
   "version": "3.13.2"
  }
 },
 "nbformat": 4,
 "nbformat_minor": 2
}
