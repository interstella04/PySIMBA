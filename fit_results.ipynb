{
 "cells": [
  {
   "cell_type": "code",
   "execution_count": 20,
   "metadata": {},
   "outputs": [],
   "source": [
    "from Meas import Meas\n",
    "from iminuit import Minuit, cost\n",
    "import numpy as np\n",
    "from fitter import Fitter\n",
    "from Tools import Tools"
   ]
  },
  {
   "cell_type": "code",
   "execution_count": 21,
   "metadata": {},
   "outputs": [
    {
     "name": "stderr",
     "output_type": "stream",
     "text": [
      "/mnt/c/Users/Stell/OneDrive/Desktop/Stella/UNI_Bonn/Studium Physik/SHK_bernlochner/SHK_SIMBA/Meas.py:94: RuntimeWarning: invalid value encountered in sqrt\n",
      "  value *= settings.C2C7 / np.sqrt(norm) * settings.VtbVts * self.mb\n",
      "/mnt/c/Users/Stell/OneDrive/Desktop/Stella/UNI_Bonn/Studium Physik/SHK_bernlochner/SHK_SIMBA/Meas.py:103: RuntimeWarning: invalid value encountered in sqrt\n",
      "  value /= np.sqrt(norm)\n"
     ]
    }
   ],
   "source": [
    "\n",
    "start_pars = np.array([1, 0.00506919, 0.0, 0.0798100, 0.0870341, 0.0250290, 0.0])\n",
    "m, mes = Fitter.DoFit(start_pars,number_pars= 4, no_meas=2, with_sub= False, with_minos= False)"
   ]
  },
  {
   "cell_type": "code",
   "execution_count": 22,
   "metadata": {},
   "outputs": [
    {
     "name": "stdout",
     "output_type": "stream",
     "text": [
      "4.590387430480494\n",
      "<ValueView x0=0.43728815789780073 x1=1.6945777681082392 x2=-3.864314116079938 x3=-0.0744776601956725>\n"
     ]
    }
   ],
   "source": [
    "print(mes.mb)\n",
    "print(m.values)"
   ]
  },
  {
   "cell_type": "code",
   "execution_count": 23,
   "metadata": {},
   "outputs": [
    {
     "name": "stdout",
     "output_type": "stream",
     "text": [
      "0.43728815789780073\n",
      "[ 0.43728816  1.69457777 -3.86431412 -0.07447766]\n",
      "[np.float64(0.23057109373079449), np.float64(0.3907206494046053), np.float64(-0.8909991322638996), np.float64(-0.01717239556982666)]\n",
      "[ 0.43728816  1.69457777 -3.86431412 -0.07447766]\n"
     ]
    }
   ],
   "source": [
    "norm = m.values[0]\n",
    "print(norm)\n",
    "\n",
    "an = np.array([m.values[0], m.values[1], m.values[2],m.values[3]])#,m.values[4],m.values[5],m.values[6]])\n",
    "cn = Meas.ConvertPars(an)\n",
    "\n",
    "print(an)\n",
    "print(cn)\n",
    "print(np.array(m.values))"
   ]
  },
  {
   "cell_type": "code",
   "execution_count": 5,
   "metadata": {},
   "outputs": [
    {
     "name": "stdout",
     "output_type": "stream",
     "text": [
      "87297.03098034534\n"
     ]
    }
   ],
   "source": [
    "chi2 = mes.Chisq(an)\n",
    "print(chi2)"
   ]
  },
  {
   "cell_type": "code",
   "execution_count": 6,
   "metadata": {},
   "outputs": [
    {
     "name": "stdout",
     "output_type": "stream",
     "text": [
      "4.590384829604854\n",
      "-0.6400355661850129\n"
     ]
    }
   ],
   "source": [
    "mb = mes.mb1SPrediction(cn)\n",
    "print(mb)\n",
    "print(mes.lambda11SPrediction(cn))"
   ]
  },
  {
   "cell_type": "code",
   "execution_count": 7,
   "metadata": {},
   "outputs": [
    {
     "name": "stdout",
     "output_type": "stream",
     "text": [
      "4\n",
      "5\n",
      "6\n"
     ]
    }
   ],
   "source": [
    "x = range(4, 7, 1)\n",
    "for n in x:\n",
    "    print(n)"
   ]
  },
  {
   "cell_type": "code",
   "execution_count": 24,
   "metadata": {},
   "outputs": [
    {
     "name": "stdout",
     "output_type": "stream",
     "text": [
      "[0, 1, 2, 3, 4, 5, 6]\n"
     ]
    }
   ],
   "source": [
    "a = [0,1,2,3,4,5,6]\n",
    "print(a[0:7])"
   ]
  },
  {
   "cell_type": "code",
   "execution_count": 11,
   "metadata": {},
   "outputs": [],
   "source": [
    "coll = Tools.pickle_to_dict('fit/collected_fits')"
   ]
  },
  {
   "cell_type": "code",
   "execution_count": 13,
   "metadata": {},
   "outputs": [
    {
     "name": "stdout",
     "output_type": "stream",
     "text": [
      "<class 'iminuit.util.ValueView'>\n"
     ]
    }
   ],
   "source": [
    "print(type(coll['2']['subleading']['5']['an']))"
   ]
  },
  {
   "cell_type": "code",
   "execution_count": null,
   "metadata": {},
   "outputs": [],
   "source": []
  }
 ],
 "metadata": {
  "kernelspec": {
   "display_name": "root-env",
   "language": "python",
   "name": "python3"
  },
  "language_info": {
   "codemirror_mode": {
    "name": "ipython",
    "version": 3
   },
   "file_extension": ".py",
   "mimetype": "text/x-python",
   "name": "python",
   "nbconvert_exporter": "python",
   "pygments_lexer": "ipython3",
   "version": "3.13.2"
  }
 },
 "nbformat": 4,
 "nbformat_minor": 2
}
