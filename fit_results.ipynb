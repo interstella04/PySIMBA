{
 "cells": [
  {
   "cell_type": "code",
   "execution_count": 11,
   "metadata": {},
   "outputs": [
    {
     "name": "stdout",
     "output_type": "stream",
     "text": [
      "The autoreload extension is already loaded. To reload it, use:\n",
      "  %reload_ext autoreload\n"
     ]
    }
   ],
   "source": [
    "%load_ext autoreload\n",
    "\n",
    "%autoreload 2"
   ]
  },
  {
   "cell_type": "code",
   "execution_count": 12,
   "metadata": {},
   "outputs": [],
   "source": [
    "from Meas import Theory, settings\n",
    "import numpy as np\n",
    "from fitter import Fitter\n",
    "from Tools import Tools"
   ]
  },
  {
   "cell_type": "code",
   "execution_count": 15,
   "metadata": {},
   "outputs": [
    {
     "name": "stdout",
     "output_type": "stream",
     "text": [
      "Fit for: ['belle', 'babar_hadtag', 'babar_incl']\n"
     ]
    },
    {
     "ename": "AttributeError",
     "evalue": "'numpy.ndarray' object has no attribute 'append'",
     "output_type": "error",
     "traceback": [
      "\u001b[31m---------------------------------------------------------------------------\u001b[39m",
      "\u001b[31mAttributeError\u001b[39m                            Traceback (most recent call last)",
      "\u001b[36mCell\u001b[39m\u001b[36m \u001b[39m\u001b[32mIn[15]\u001b[39m\u001b[32m, line 2\u001b[39m\n\u001b[32m      1\u001b[39m start_pars = [\u001b[32m1\u001b[39m, \u001b[32m0.00506919\u001b[39m, \u001b[32m0.0\u001b[39m, \u001b[32m0.0798100\u001b[39m, \u001b[32m0.0870341\u001b[39m, \u001b[32m0.0250290\u001b[39m, \u001b[32m0.0\u001b[39m]\n\u001b[32m----> \u001b[39m\u001b[32m2\u001b[39m m, mes, chisq, mb = \u001b[43mFitter\u001b[49m\u001b[43m.\u001b[49m\u001b[43mDoFit\u001b[49m\u001b[43m(\u001b[49m\u001b[43mstart_pars\u001b[49m\u001b[43m \u001b[49m\u001b[43m,\u001b[49m\u001b[43mnumber_pars\u001b[49m\u001b[43m=\u001b[49m\u001b[43m \u001b[49m\u001b[32;43m3\u001b[39;49m\u001b[43m,\u001b[49m\u001b[43m \u001b[49m\u001b[43mno_meas\u001b[49m\u001b[43m=\u001b[49m\u001b[32;43m3\u001b[39;49m\u001b[43m,\u001b[49m\u001b[43m \u001b[49m\u001b[43mwith_minos\u001b[49m\u001b[43m=\u001b[49m\u001b[43m \u001b[49m\u001b[38;5;28;43;01mTrue\u001b[39;49;00m\u001b[43m)\u001b[49m\n\u001b[32m      4\u001b[39m \u001b[38;5;28mprint\u001b[39m(m.values, chisq, mb)\n",
      "\u001b[36mFile \u001b[39m\u001b[32m/mnt/c/Users/Stell/OneDrive/Desktop/Stella/UNI_Bonn/Studium Physik/SHK_bernlochner/SHK_SIMBA/fitter.py:25\u001b[39m, in \u001b[36mFitter.DoFit\u001b[39m\u001b[34m(start_pars, number_pars, no_meas, with_minos)\u001b[39m\n\u001b[32m     22\u001b[39m mes = Theory()\n\u001b[32m     24\u001b[39m m = Minuit(mes.Chisq, start_pars[\u001b[32m0\u001b[39m:number_pars])\n\u001b[32m---> \u001b[39m\u001b[32m25\u001b[39m value = \u001b[43mmes\u001b[49m\u001b[43m.\u001b[49m\u001b[43mChisq\u001b[49m\u001b[43m(\u001b[49m\u001b[43mnp\u001b[49m\u001b[43m.\u001b[49m\u001b[43marray\u001b[49m\u001b[43m(\u001b[49m\u001b[43mm\u001b[49m\u001b[43m.\u001b[49m\u001b[43mvalues\u001b[49m\u001b[43m)\u001b[49m\u001b[43m)\u001b[49m\n\u001b[32m     26\u001b[39m m.print_level = \u001b[32m1\u001b[39m\n\u001b[32m     28\u001b[39m m.tol = \u001b[32m1000\u001b[39m \u001b[38;5;66;03m#sets EDM_max = 0.1\u001b[39;00m\n",
      "\u001b[36mFile \u001b[39m\u001b[32m<string>:18\u001b[39m, in \u001b[36mChisq\u001b[39m\u001b[34m(self, par)\u001b[39m\n",
      "\u001b[36mFile \u001b[39m\u001b[32m/mnt/c/Users/Stell/OneDrive/Desktop/Stella/UNI_Bonn/Studium Physik/SHK_bernlochner/SHK_SIMBA/Meas.py:77\u001b[39m, in \u001b[36mTheory.FullBsgPrediction\u001b[39m\u001b[34m(self, key, end, c_n_params, norm)\u001b[39m\n\u001b[32m     75\u001b[39m \u001b[38;5;66;03m# Full leading prediction\u001b[39;00m\n\u001b[32m     76\u001b[39m \u001b[38;5;28;01mfor\u001b[39;00m order \u001b[38;5;129;01min\u001b[39;00m \u001b[38;5;28mrange\u001b[39m(np.size(settings.TheoryOrder)):\n\u001b[32m---> \u001b[39m\u001b[32m77\u001b[39m     pred += \u001b[38;5;28;43mself\u001b[39;49m\u001b[43m.\u001b[49m\u001b[43mBsgPrediction\u001b[49m\u001b[43m(\u001b[49m\u001b[43mkey\u001b[49m\u001b[43m,\u001b[49m\u001b[43m \u001b[49m\u001b[43msettings\u001b[49m\u001b[43m.\u001b[49m\u001b[43mTheoryOrder\u001b[49m\u001b[43m[\u001b[49m\u001b[43morder\u001b[49m\u001b[43m]\u001b[49m\u001b[43m,\u001b[49m\u001b[43m \u001b[49m\u001b[43mend\u001b[49m\u001b[43m,\u001b[49m\u001b[43m \u001b[49m\u001b[43mc_n_params\u001b[49m\u001b[43m,\u001b[49m\u001b[43m \u001b[49m\u001b[43mnorm\u001b[49m\u001b[43m \u001b[49m\u001b[43m)\u001b[49m * \u001b[38;5;28mself\u001b[39m.TheoryPrefactor(settings.TheoryOrder[order], norm)\n\u001b[32m     79\u001b[39m \u001b[38;5;66;03m# Full subleading prediction\u001b[39;00m\n\u001b[32m     80\u001b[39m \u001b[38;5;28;01mfor\u001b[39;00m order \u001b[38;5;129;01min\u001b[39;00m \u001b[38;5;28mrange\u001b[39m(np.size(settings.SubLeadTheoryOrder)):\n",
      "\u001b[36mFile \u001b[39m\u001b[32m<string>:10\u001b[39m, in \u001b[36mBsgPrediction\u001b[39m\u001b[34m(self, key, mid, end, c_n_params, norm)\u001b[39m\n",
      "\u001b[31mAttributeError\u001b[39m: 'numpy.ndarray' object has no attribute 'append'"
     ]
    }
   ],
   "source": [
    "start_pars = [1, 0.00506919, 0.0, 0.0798100, 0.0870341, 0.0250290, 0.0]\n",
    "m, mes, chisq, mb = Fitter.DoFit(start_pars ,number_pars= 3, no_meas=3, with_minos= True)\n",
    "\n",
    "print(m.values, chisq, mb)"
   ]
  },
  {
   "cell_type": "code",
   "execution_count": 9,
   "metadata": {},
   "outputs": [
    {
     "name": "stdout",
     "output_type": "stream",
     "text": [
      "<class 'list'>\n"
     ]
    }
   ],
   "source": [
    "print(type(Theory.ConvertPars(np.array(m.values))))"
   ]
  },
  {
   "cell_type": "code",
   "execution_count": 10,
   "metadata": {},
   "outputs": [
    {
     "name": "stdout",
     "output_type": "stream",
     "text": [
      "0.575\n"
     ]
    }
   ],
   "source": [
    "print(mes.SubleadTheory['babar_hadtag']['la'+settings.SubLeadBasisExpansion]['lambda'])"
   ]
  },
  {
   "cell_type": "code",
   "execution_count": null,
   "metadata": {},
   "outputs": [],
   "source": []
  }
 ],
 "metadata": {
  "kernelspec": {
   "display_name": "root-env",
   "language": "python",
   "name": "python3"
  },
  "language_info": {
   "codemirror_mode": {
    "name": "ipython",
    "version": 3
   },
   "file_extension": ".py",
   "mimetype": "text/x-python",
   "name": "python",
   "nbconvert_exporter": "python",
   "pygments_lexer": "ipython3",
   "version": "3.13.2"
  }
 },
 "nbformat": 4,
 "nbformat_minor": 2
}
