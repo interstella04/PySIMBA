{
 "cells": [
  {
   "cell_type": "code",
   "execution_count": 1,
   "metadata": {},
   "outputs": [],
   "source": [
    "%load_ext autoreload\n",
    "\n",
    "%autoreload 2"
   ]
  },
  {
   "cell_type": "code",
   "execution_count": 2,
   "metadata": {},
   "outputs": [],
   "source": [
    "from Meas import Theory, settings\n",
    "import numpy as np\n",
    "from fitter import Fitter\n",
    "from Tools import Tools"
   ]
  },
  {
   "cell_type": "code",
   "execution_count": 4,
   "metadata": {},
   "outputs": [
    {
     "name": "stdout",
     "output_type": "stream",
     "text": [
      "Fit for: ['belle', 'babar_hadtag', 'babar_incl'] using 5 parameters\n",
      "<ValueView norm=0.0047533814778948245 a1=0.009790890286670519 a2=0.04244423412761333 a3=-0.02028901876727809 a4=-0.2445716980918044> 32.86183934196164 4.766419059728669\n"
     ]
    }
   ],
   "source": [
    "start_pars = [1, 0.00506919, 0.0, 0.0798100, 0.0870341, 0.0250290, 0.0]\n",
    "fit = Fitter()\n",
    "m, mes, chisq, mb = fit.DoSingleFit(NumbPar= 5, with_minos= True)\n",
    "\n",
    "print(m.values, chisq, mb)"
   ]
  },
  {
   "cell_type": "code",
   "execution_count": 9,
   "metadata": {},
   "outputs": [
    {
     "name": "stdout",
     "output_type": "stream",
     "text": [
      "<class 'list'>\n"
     ]
    }
   ],
   "source": [
    "print(type(Theory.ConvertPars(np.array(m.values))))"
   ]
  },
  {
   "cell_type": "code",
   "execution_count": 10,
   "metadata": {},
   "outputs": [
    {
     "name": "stdout",
     "output_type": "stream",
     "text": [
      "0.575\n"
     ]
    }
   ],
   "source": [
    "print(mes.SubleadTheory['babar_hadtag']['la'+settings.SubLeadBasisExpansion]['lambda'])"
   ]
  },
  {
   "cell_type": "code",
   "execution_count": null,
   "metadata": {},
   "outputs": [],
   "source": []
  }
 ],
 "metadata": {
  "kernelspec": {
   "display_name": "root-env",
   "language": "python",
   "name": "python3"
  },
  "language_info": {
   "codemirror_mode": {
    "name": "ipython",
    "version": 3
   },
   "file_extension": ".py",
   "mimetype": "text/x-python",
   "name": "python",
   "nbconvert_exporter": "python",
   "pygments_lexer": "ipython3",
   "version": "3.13.2"
  }
 },
 "nbformat": 4,
 "nbformat_minor": 2
}
