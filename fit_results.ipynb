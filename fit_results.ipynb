{
 "cells": [
  {
   "cell_type": "code",
   "execution_count": 1,
   "metadata": {},
   "outputs": [],
   "source": [
    "%load_ext autoreload\n",
    "\n",
    "%autoreload 2"
   ]
  },
  {
   "cell_type": "code",
   "execution_count": 2,
   "metadata": {},
   "outputs": [],
   "source": [
    "from Meas import Meas\n",
    "import numpy as np\n",
    "from fitter import Fitter\n",
    "from Tools import Tools"
   ]
  },
  {
   "cell_type": "code",
   "execution_count": 3,
   "metadata": {},
   "outputs": [
    {
     "name": "stdout",
     "output_type": "stream",
     "text": [
      "Fit for: ['belle', 'babar_hadtag', 'babar_incl']\n"
     ]
    },
    {
     "ename": "KeyError",
     "evalue": "'SubleadigTheoryPath'",
     "output_type": "error",
     "traceback": [
      "\u001b[31m---------------------------------------------------------------------------\u001b[39m",
      "\u001b[31mKeyError\u001b[39m                                  Traceback (most recent call last)",
      "\u001b[36mCell\u001b[39m\u001b[36m \u001b[39m\u001b[32mIn[3]\u001b[39m\u001b[32m, line 2\u001b[39m\n\u001b[32m      1\u001b[39m start_pars = np.array([\u001b[32m1\u001b[39m, \u001b[32m0.00506919\u001b[39m, \u001b[32m0.0\u001b[39m, \u001b[32m0.0798100\u001b[39m, \u001b[32m0.0870341\u001b[39m, \u001b[32m0.0250290\u001b[39m, \u001b[32m0.0\u001b[39m])\n\u001b[32m----> \u001b[39m\u001b[32m2\u001b[39m m, mes, chisq, mb = \u001b[43mFitter\u001b[49m\u001b[43m.\u001b[49m\u001b[43mDoFit\u001b[49m\u001b[43m(\u001b[49m\u001b[43mstart_pars\u001b[49m\u001b[43m \u001b[49m\u001b[43m,\u001b[49m\u001b[43mnumber_pars\u001b[49m\u001b[43m=\u001b[49m\u001b[43m \u001b[49m\u001b[32;43m3\u001b[39;49m\u001b[43m,\u001b[49m\u001b[43m \u001b[49m\u001b[43mno_meas\u001b[49m\u001b[43m=\u001b[49m\u001b[32;43m3\u001b[39;49m\u001b[43m,\u001b[49m\u001b[43m \u001b[49m\u001b[43mwith_minos\u001b[49m\u001b[43m=\u001b[49m\u001b[43m \u001b[49m\u001b[38;5;28;43;01mTrue\u001b[39;49;00m\u001b[43m)\u001b[49m\n\u001b[32m      4\u001b[39m \u001b[38;5;28mprint\u001b[39m(m.values, chisq, mb)\n",
      "\u001b[36mFile \u001b[39m\u001b[32m/mnt/c/Users/Stell/OneDrive/Desktop/Stella/UNI_Bonn/Studium Physik/SHK_bernlochner/SHK_SIMBA/fitter.py:22\u001b[39m, in \u001b[36mFitter.DoFit\u001b[39m\u001b[34m(start_pars, number_pars, no_meas, with_minos)\u001b[39m\n\u001b[32m     19\u001b[39m sets.KeyOrder = sets.KeyOrder[\u001b[32m0\u001b[39m:no_meas]\n\u001b[32m     20\u001b[39m \u001b[38;5;28mprint\u001b[39m(\u001b[33m'\u001b[39m\u001b[33mFit for: \u001b[39m\u001b[33m'\u001b[39m+ \u001b[38;5;28mstr\u001b[39m(sets.KeyOrder))\n\u001b[32m---> \u001b[39m\u001b[32m22\u001b[39m mes = \u001b[43mMeas\u001b[49m\u001b[43m(\u001b[49m\u001b[43m)\u001b[49m\n\u001b[32m     24\u001b[39m m = Minuit(mes.Chisq, start_pars[\u001b[32m0\u001b[39m:number_pars])\n\u001b[32m     25\u001b[39m value = mes.Chisq(np.array(m.values))\n",
      "\u001b[36mFile \u001b[39m\u001b[32m/mnt/c/Users/Stell/OneDrive/Desktop/Stella/UNI_Bonn/Studium Physik/SHK_bernlochner/SHK_SIMBA/Meas.py:38\u001b[39m, in \u001b[36mMeas.__init__\u001b[39m\u001b[34m(self)\u001b[39m\n\u001b[32m     34\u001b[39m \u001b[38;5;28;01mdef\u001b[39;00m\u001b[38;5;250m \u001b[39m\u001b[34m__init__\u001b[39m(\u001b[38;5;28mself\u001b[39m):\n\u001b[32m     35\u001b[39m \n\u001b[32m     36\u001b[39m     \u001b[38;5;66;03m#Theory Dictionaries\u001b[39;00m\n\u001b[32m     37\u001b[39m     \u001b[38;5;28mself\u001b[39m.theory_expx3 = Tools.pickle_to_dict(settings.config[\u001b[33m\"\u001b[39m\u001b[33mTheoryPath\u001b[39m\u001b[33m\"\u001b[39m])\n\u001b[32m---> \u001b[39m\u001b[32m38\u001b[39m     \u001b[38;5;28mself\u001b[39m.theory_SSF = Tools.pickle_to_dict(\u001b[43msettings\u001b[49m\u001b[43m.\u001b[49m\u001b[43mconfig\u001b[49m\u001b[43m[\u001b[49m\u001b[33;43m\"\u001b[39;49m\u001b[33;43mSubleadigTheoryPath\u001b[39;49m\u001b[33;43m\"\u001b[39;49m\u001b[43m]\u001b[49m)\n\u001b[32m     40\u001b[39m     \u001b[38;5;66;03m#Dictionary with experimental data\u001b[39;00m\n\u001b[32m     41\u001b[39m     \u001b[38;5;28mself\u001b[39m.exp_data = Tools.pickle_to_dict(settings.config[\u001b[33m\"\u001b[39m\u001b[33mMeasurementPath\u001b[39m\u001b[33m\"\u001b[39m])\n",
      "\u001b[31mKeyError\u001b[39m: 'SubleadigTheoryPath'"
     ]
    }
   ],
   "source": [
    "start_pars = np.array([1, 0.00506919, 0.0, 0.0798100, 0.0870341, 0.0250290, 0.0])\n",
    "m, mes, chisq, mb = Fitter.DoFit(start_pars ,number_pars= 3, no_meas=3, with_minos= True)\n",
    "\n",
    "print(m.values, chisq, mb)"
   ]
  },
  {
   "cell_type": "code",
   "execution_count": null,
   "metadata": {},
   "outputs": [
    {
     "name": "stdout",
     "output_type": "stream",
     "text": [
      "[np.float64(0.09300219150187869), np.float64(-0.21944384153585672), np.float64(0.36278663848272197), np.float64(0.8939138525048399), np.float64(-0.1117983543089778)]\n"
     ]
    }
   ],
   "source": [
    "print(Meas.ConvertPars(np.array(m.values)))"
   ]
  },
  {
   "cell_type": "code",
   "execution_count": 47,
   "metadata": {},
   "outputs": [
    {
     "name": "stdout",
     "output_type": "stream",
     "text": [
      "[6.01609049e-09 3.03353410e-08 3.59697071e-08 4.30344040e-08\n",
      " 5.03445452e-08 5.83615138e-08 6.57145647e-08 7.56679468e-08\n",
      " 8.55453589e-08 9.61857632e-08 1.03273889e-07 1.15938241e-07\n",
      " 1.27934288e-07 1.35728465e-07 1.45173945e-07 1.57729161e-07\n",
      " 1.66505649e-07 1.79895661e-07 2.15817976e-07 2.37354895e-07\n",
      " 2.49063846e-07 2.62424301e-07 2.29039887e+00 4.05263297e+00\n",
      " 1.01008726e+01 1.50439651e+01 1.63852643e+01 2.44597687e+01\n",
      " 3.06793480e+01 5.25132482e+01 9.02222548e+01 1.48813310e+02\n",
      " 2.44710348e+02 2.99480921e+02 3.18136789e+02 4.20988379e+02\n",
      " 4.71975872e+02 7.99551179e+02 1.07845735e+03]\n"
     ]
    }
   ],
   "source": [
    "meas = Meas()\n",
    "\n",
    "chi2 = meas.Chisq(np.array(m.values))\n",
    "\n",
    "#print(chi2)\n",
    "\n",
    "eigenvalues, eigenvectors = np.linalg.eigh(meas.glob_cov)\n",
    "\n",
    "print(eigenvalues)"
   ]
  },
  {
   "cell_type": "code",
   "execution_count": null,
   "metadata": {},
   "outputs": [],
   "source": []
  },
  {
   "cell_type": "code",
   "execution_count": null,
   "metadata": {},
   "outputs": [],
   "source": []
  },
  {
   "cell_type": "code",
   "execution_count": null,
   "metadata": {},
   "outputs": [],
   "source": []
  },
  {
   "cell_type": "code",
   "execution_count": null,
   "metadata": {},
   "outputs": [],
   "source": []
  },
  {
   "cell_type": "code",
   "execution_count": null,
   "metadata": {},
   "outputs": [],
   "source": []
  },
  {
   "cell_type": "code",
   "execution_count": null,
   "metadata": {},
   "outputs": [],
   "source": []
  },
  {
   "cell_type": "code",
   "execution_count": null,
   "metadata": {},
   "outputs": [],
   "source": []
  },
  {
   "cell_type": "code",
   "execution_count": null,
   "metadata": {},
   "outputs": [],
   "source": []
  },
  {
   "cell_type": "code",
   "execution_count": null,
   "metadata": {},
   "outputs": [],
   "source": []
  }
 ],
 "metadata": {
  "kernelspec": {
   "display_name": "root-env",
   "language": "python",
   "name": "python3"
  },
  "language_info": {
   "codemirror_mode": {
    "name": "ipython",
    "version": 3
   },
   "file_extension": ".py",
   "mimetype": "text/x-python",
   "name": "python",
   "nbconvert_exporter": "python",
   "pygments_lexer": "ipython3",
   "version": "3.13.2"
  }
 },
 "nbformat": 4,
 "nbformat_minor": 2
}
