{
 "cells": [
  {
   "cell_type": "code",
   "execution_count": 1,
   "metadata": {},
   "outputs": [],
   "source": [
    "from Meas import Meas,settings\n",
    "from iminuit import Minuit, cost\n",
    "import numpy as np\n",
    "#from fitter import Fitter\n",
    "from Tools import Tools"
   ]
  },
  {
   "cell_type": "code",
   "execution_count": 2,
   "metadata": {},
   "outputs": [
    {
     "name": "stdout",
     "output_type": "stream",
     "text": [
      "[np.float64(0.8164965809277261), np.float64(0.4082482904638631), np.float64(0.4082482904638631)]\n"
     ]
    }
   ],
   "source": [
    "mes = Meas()\n",
    "\n",
    "a = np.array([0.5,0.5,0.5])\n",
    "test = Meas.ConvertPars(a)\n",
    "print(test)"
   ]
  },
  {
   "cell_type": "code",
   "execution_count": 4,
   "metadata": {},
   "outputs": [
    {
     "name": "stdout",
     "output_type": "stream",
     "text": [
      "mbbbbb:\n",
      "4.640525122851361\n",
      "Laaa:\n",
      "0.575\n",
      "[ 1.20575585 -0.20575585 -0.        ]\n"
     ]
    }
   ],
   "source": [
    "test2 = mes.SubLeadPars(a, 0)\n",
    "print(test2)"
   ]
  },
  {
   "cell_type": "code",
   "execution_count": 5,
   "metadata": {},
   "outputs": [
    {
     "name": "stdout",
     "output_type": "stream",
     "text": [
      "[-0.02010569 -0.02781785 -0.02834712 -0.01496808  0.01352457  0.02747722\n",
      "  0.00427452]\n"
     ]
    }
   ],
   "source": [
    "test3 = mes.BsgSubLeadingPrediction('babar_hadtag', a, 1)\n",
    "print(test3)"
   ]
  },
  {
   "cell_type": "code",
   "execution_count": 6,
   "metadata": {},
   "outputs": [
    {
     "name": "stdout",
     "output_type": "stream",
     "text": [
      "[-0.00193079 -0.00496157 -0.01051403 -0.01898594 -0.03278962 -0.04850199\n",
      " -0.04334622]\n"
     ]
    }
   ],
   "source": [
    "test4 = mes.BsgSubLeadingPrediction('babar_hadtag', test2, 1)\n",
    "print(test4)"
   ]
  },
  {
   "cell_type": "code",
   "execution_count": 7,
   "metadata": {},
   "outputs": [
    {
     "name": "stdout",
     "output_type": "stream",
     "text": [
      "mbbbbb:\n",
      "4.640525122851361\n",
      "Laaa:\n",
      "0.575\n",
      "[40.22895509 63.2028725  82.19756777 69.33969015 16.62466811  6.87752199\n",
      " 12.30316034]\n"
     ]
    }
   ],
   "source": [
    "test5 = mes.BsgPrediction_full('babar_hadtag', settings.BasisExpansion, a, 1, with_sub=True)\n",
    "print(test5)"
   ]
  },
  {
   "cell_type": "code",
   "execution_count": 8,
   "metadata": {},
   "outputs": [
    {
     "name": "stdout",
     "output_type": "stream",
     "text": [
      "4.640525122851361\n"
     ]
    }
   ],
   "source": [
    "print(mes.mb1SPrediction(a))"
   ]
  },
  {
   "cell_type": "code",
   "execution_count": 9,
   "metadata": {},
   "outputs": [
    {
     "name": "stdout",
     "output_type": "stream",
     "text": [
      "-8.302216307022663\n",
      "SSF27_10575\n"
     ]
    }
   ],
   "source": [
    "print(mes.TheoryPrefactor(settings.SubLeadTheoryOrder, 1))\n",
    "print(settings.SubLeadTheoryOrder)"
   ]
  },
  {
   "cell_type": "code",
   "execution_count": 10,
   "metadata": {},
   "outputs": [
    {
     "name": "stdout",
     "output_type": "stream",
     "text": [
      "0.8625669837683264\n"
     ]
    }
   ],
   "source": [
    "print(mes.Moment(a,2))"
   ]
  },
  {
   "cell_type": "code",
   "execution_count": 11,
   "metadata": {},
   "outputs": [
    {
     "name": "stdout",
     "output_type": "stream",
     "text": [
      "0.575\n"
     ]
    }
   ],
   "source": [
    "print(mes.theory_SSF['babar_hadtag']['la'+settings.SubLeadBasisExpansion]['lambda'])"
   ]
  },
  {
   "cell_type": "code",
   "execution_count": null,
   "metadata": {},
   "outputs": [],
   "source": []
  },
  {
   "cell_type": "code",
   "execution_count": null,
   "metadata": {},
   "outputs": [],
   "source": []
  }
 ],
 "metadata": {
  "kernelspec": {
   "display_name": "root-env",
   "language": "python",
   "name": "python3"
  },
  "language_info": {
   "codemirror_mode": {
    "name": "ipython",
    "version": 3
   },
   "file_extension": ".py",
   "mimetype": "text/x-python",
   "name": "python",
   "nbconvert_exporter": "python",
   "pygments_lexer": "ipython3",
   "version": "3.13.2"
  }
 },
 "nbformat": 4,
 "nbformat_minor": 2
}
