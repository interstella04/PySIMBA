{
 "cells": [
  {
   "cell_type": "code",
   "execution_count": 1,
   "metadata": {},
   "outputs": [],
   "source": [
    "#IMPORT\n",
    "import numpy as np\n",
    "from Meas import Meas\n",
    "import matplotlib.pyplot as plt\n",
    "from Tools import Tools\n",
    "from iminuit import Minuit, cost\n"
   ]
  },
  {
   "cell_type": "code",
   "execution_count": 7,
   "metadata": {},
   "outputs": [
    {
     "name": "stdout",
     "output_type": "stream",
     "text": [
      "[[ 4.29200000e-01 -3.26399670e-04  1.48036094e-02  4.19457581e-02\n",
      "  -4.77360100e-03  2.53980628e-03  2.59793546e-02]\n",
      " [-3.26399670e-04  2.34000000e-01  3.06432472e-02  2.99520493e-03\n",
      "   2.51159581e-02  1.55735995e-02 -1.87920344e-03]\n",
      " [ 1.48036094e-02  3.06432472e-02  1.03700000e-01  6.40639623e-03\n",
      "   1.29584205e-02  8.80738694e-03  1.91519928e-03]\n",
      " [ 4.19457581e-02  2.99520493e-03  6.40639623e-03  6.98000000e-02\n",
      "   1.87590281e-03  3.62699797e-03  1.09979884e-02]\n",
      " [-4.77360100e-03  2.51159581e-02  1.29584205e-02  1.87590281e-03\n",
      "   6.53000000e-02  1.13372841e-02  1.34549914e-03]\n",
      " [ 2.53980628e-03  1.55735995e-02  8.80738694e-03  3.62699797e-03\n",
      "   1.13372841e-02  3.70000000e-02  2.76209920e-03]\n",
      " [ 2.59793546e-02 -1.87920344e-03  1.91519928e-03  1.09979884e-02\n",
      "   1.34549914e-03  2.76209920e-03  2.25000000e-02]]\n"
     ]
    }
   ],
   "source": [
    "obj = Meas()\n",
    "F_mn = obj.Fmn_moments['expx3']['Values'][1]\n",
    "#print(F_mn)\n",
    "\n",
    "cov = obj.exp_data['babar_hadtag']['Cov']\n",
    "binned_data = obj.exp_data  \n",
    "print(cov)"
   ]
  },
  {
   "cell_type": "code",
   "execution_count": 9,
   "metadata": {},
   "outputs": [],
   "source": [
    "def fit_func(k, c):\n",
    "    return np.einsum('i,j,ij', c,c,F_mn)\n",
    "\n",
    "#print(np.size(F_mn))\n",
    "#y = np.ones(8)\n",
    "#x = np.ones(8)\n",
    "#print(model(x))"
   ]
  },
  {
   "cell_type": "code",
   "execution_count": null,
   "metadata": {},
   "outputs": [
    {
     "ename": "TypeError",
     "evalue": "BinnedNLL.__init__() missing 1 required positional argument: 'cdf'",
     "output_type": "error",
     "traceback": [
      "\u001b[1;31m---------------------------------------------------------------------------\u001b[0m",
      "\u001b[1;31mTypeError\u001b[0m                                 Traceback (most recent call last)",
      "Cell \u001b[1;32mIn[11], line 1\u001b[0m\n\u001b[1;32m----> 1\u001b[0m c \u001b[38;5;241m=\u001b[39m \u001b[43mcost\u001b[49m\u001b[38;5;241;43m.\u001b[39;49m\u001b[43mBinnedNLL\u001b[49m\u001b[43m(\u001b[49m\u001b[43mcov\u001b[49m\u001b[43m,\u001b[49m\u001b[43m  \u001b[49m\u001b[43mfit_func\u001b[49m\u001b[43m)\u001b[49m\n\u001b[0;32m      3\u001b[0m start \u001b[38;5;241m=\u001b[39m np\u001b[38;5;241m.\u001b[39mzeros(\u001b[38;5;241m8\u001b[39m)\n",
      "\u001b[1;31mTypeError\u001b[0m: BinnedNLL.__init__() missing 1 required positional argument: 'cdf'"
     ]
    }
   ],
   "source": [
    "c = cost.BinnedNLL(cov)\n",
    "\n",
    "start = np.zeros(8)\n",
    "\n"
   ]
  },
  {
   "cell_type": "code",
   "execution_count": null,
   "metadata": {},
   "outputs": [],
   "source": []
  }
 ],
 "metadata": {
  "kernelspec": {
   "display_name": "Python 3",
   "language": "python",
   "name": "python3"
  },
  "language_info": {
   "codemirror_mode": {
    "name": "ipython",
    "version": 3
   },
   "file_extension": ".py",
   "mimetype": "text/x-python",
   "name": "python",
   "nbconvert_exporter": "python",
   "pygments_lexer": "ipython3",
   "version": "3.10.11"
  }
 },
 "nbformat": 4,
 "nbformat_minor": 2
}
